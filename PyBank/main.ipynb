{
 "cells": [
  {
   "cell_type": "code",
   "execution_count": 22,
   "id": "21ce6f16-f760-4f1e-82c1-15bc7b27eb94",
   "metadata": {
    "tags": []
   },
   "outputs": [
    {
     "name": "stdout",
     "output_type": "stream",
     "text": [
      "Financial Analysis\n",
      "----------------------------\n",
      "Total Months: 86\n",
      "Total: $38382578\n",
      "Average Change: $-2315.12\n",
      "Greatest Increase in Profits: Date ($1926159)\n",
      "Greatest Decrease in Profits: Date ($-2196167)\n"
     ]
    }
   ],
   "source": [
    "import csv\n",
    "\n",
    "# Define the file path\n",
    "file_path = \"budget_data.csv\"\n",
    "\n",
    "# Initialize variables to store the data\n",
    "total_months = 0\n",
    "net_total = 0\n",
    "profit_changes = []\n",
    "previous_profit = None  # Initialize to None\n",
    "\n",
    "# Open and read the CSV file\n",
    "with open(file_path, 'r', newline='') as csvfile:\n",
    "    csvreader = csv.reader(csvfile, delimiter=',')\n",
    "    \n",
    "    # Skip the header row\n",
    "    header = next(csvreader)\n",
    "    \n",
    "    # Loop through the rows in the CSV file\n",
    "    for row in csvreader:\n",
    "        # Extract data from the current row\n",
    "        date = row[0]\n",
    "        profit_loss = int(row[1])\n",
    "        \n",
    "        # Calculate the total number of months and net total\n",
    "        total_months += 1\n",
    "        net_total += profit_loss\n",
    "        \n",
    "        # Calculate the profit change\n",
    "        if previous_profit is not None:\n",
    "            profit_change = profit_loss - previous_profit\n",
    "            profit_changes.append(profit_change)\n",
    "        \n",
    "        # Set the previous profit for the next iteration\n",
    "        previous_profit = profit_loss\n",
    "\n",
    "# Calculate the average change\n",
    "average_change = round(sum(profit_changes) / len(profit_changes), 2)\n",
    "\n",
    "# Find the greatest increase and decrease\n",
    "greatest_increase = max(profit_changes)\n",
    "greatest_increase_index = profit_changes.index(greatest_increase)\n",
    "greatest_increase_date = header[0]\n",
    "greatest_decrease = min(profit_changes)\n",
    "greatest_decrease_index = profit_changes.index(greatest_decrease)\n",
    "greatest_decrease_date = header[0]\n",
    "\n",
    "# Print the results\n",
    "print(\"Financial Analysis\")\n",
    "print(\"----------------------------\")\n",
    "print(f\"Total Months: {total_months}\")\n",
    "print(f\"Total: ${net_total}\")\n",
    "print(f\"Average Change: ${average_change}\")\n",
    "print(f\"Greatest Increase in Profits: {greatest_increase_date} (${greatest_increase})\")\n",
    "print(f\"Greatest Decrease in Profits: {greatest_decrease_date} (${greatest_decrease})\")"
   ]
  },
  {
   "cell_type": "code",
   "execution_count": null,
   "id": "ed28fe4f-57f5-430d-86f1-5788820e5055",
   "metadata": {},
   "outputs": [],
   "source": []
  }
 ],
 "metadata": {
  "kernelspec": {
   "display_name": "Python 3 (ipykernel)",
   "language": "python",
   "name": "python3"
  },
  "language_info": {
   "codemirror_mode": {
    "name": "ipython",
    "version": 3
   },
   "file_extension": ".py",
   "mimetype": "text/x-python",
   "name": "python",
   "nbconvert_exporter": "python",
   "pygments_lexer": "ipython3",
   "version": "3.11.5"
  }
 },
 "nbformat": 4,
 "nbformat_minor": 5
}
